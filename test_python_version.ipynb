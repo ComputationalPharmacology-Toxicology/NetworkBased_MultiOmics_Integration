{
 "cells": [
  {
   "cell_type": "code",
   "execution_count": 4,
   "id": "86864e68",
   "metadata": {},
   "outputs": [
    {
     "data": {
      "text/plain": [
       "'3.13.2'"
      ]
     },
     "execution_count": 4,
     "metadata": {},
     "output_type": "execute_result"
    }
   ],
   "source": [
    "import platform\n",
    "platform.python_version()"
   ]
  },
  {
   "cell_type": "code",
   "execution_count": 5,
   "id": "f9ca791d",
   "metadata": {},
   "outputs": [],
   "source": [
    "# import sys\n",
    "# print(sys.executable)"
   ]
  },
  {
   "cell_type": "code",
   "execution_count": 6,
   "id": "adbe45ee",
   "metadata": {},
   "outputs": [],
   "source": [
    "# !which python\n",
    "# !python -V"
   ]
  },
  {
   "cell_type": "code",
   "execution_count": null,
   "id": "17ff358d",
   "metadata": {},
   "outputs": [],
   "source": []
  }
 ],
 "metadata": {
  "kernelspec": {
   "display_name": "Python 3",
   "language": "python",
   "name": "python3"
  },
  "language_info": {
   "codemirror_mode": {
    "name": "ipython",
    "version": 3
   },
   "file_extension": ".py",
   "mimetype": "text/x-python",
   "name": "python",
   "nbconvert_exporter": "python",
   "pygments_lexer": "ipython3",
   "version": "3.13.2"
  }
 },
 "nbformat": 4,
 "nbformat_minor": 5
}
